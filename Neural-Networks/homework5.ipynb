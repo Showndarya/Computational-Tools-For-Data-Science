{
  "cells": [
    {
      "cell_type": "markdown",
      "metadata": {
        "id": "JdVUhYhRzNaI"
      },
      "source": [
        "# Homework 5 (100 Points)\n",
        "\n",
        "The focus of this homework will be Network and Graphs as well as Neural Networks.\n",
        "\n",
        "### Collaborators: Sarah Bonna, Shivangi\n"
      ]
    },
    {
      "cell_type": "markdown",
      "metadata": {
        "id": "czJ424NjzNaK"
      },
      "source": [
        "## Exercise 1 [30pts]\n",
        "\n",
        "This exercise will focus on Neural Networks and visualization.\n",
        "\n",
        "a) Write a function that takes a keras network and outputs an image (png format) of the network. [5pts]\n",
        "\n",
        "You can assume the model is sequential and only uses dense layers. The output image for\n",
        "\n",
        "```python\n",
        "    model = keras.models.Sequential()\n",
        "    model.add(layers.Dense(2, input_dim=2))\n",
        "    model.add(layers.Dense(1))\n",
        "    model.compile(loss=\"binary_crossentropy\")\n",
        "```\n",
        "\n",
        "should look something like this"
      ]
    },
    {
      "cell_type": "code",
      "execution_count": null,
      "metadata": {
        "id": "y2w4Oq1gzNaL",
        "outputId": "dd375d25-2018-4fb7-e46f-5199061bff3b"
      },
      "outputs": [
        {
          "data": {
            "image/png": "[encoded data removed]",
            "text/plain": [
              "<IPython.core.display.Image object>"
            ]
          },
          "metadata": {},
          "output_type": "display_data"
        }
      ],
      "source": [
        "from IPython.display import Image\n",
        "Image(filename=\"example.png\")"
      ]
    },
    {
      "cell_type": "markdown",
      "metadata": {
        "id": "c55v2wjuzNaM"
      },
      "source": [
        "Hint: use the networkx library (specifically the [to_agraph](https://networkx.org/documentation/stable/reference/generated/networkx.drawing.nx_agraph.to_agraph.html) method)"
      ]
    },
    {
      "cell_type": "code",
      "execution_count": 5,
      "metadata": {
        "colab": {
          "base_uri": "https://localhost:8080/"
        },
        "id": "irmac_Nnz38z",
        "outputId": "714217c7-be7a-4bdc-8af4-aff60db2eab9"
      },
      "outputs": [
        {
          "output_type": "stream",
          "name": "stdout",
          "text": [
            "Reading package lists... Done\n",
            "Building dependency tree       \n",
            "Reading state information... Done\n",
            "graphviz is already the newest version (2.42.2-3build2).\n",
            "0 upgraded, 0 newly installed, 0 to remove and 24 not upgraded.\n",
            "Looking in indexes: https://pypi.org/simple, https://us-python.pkg.dev/colab-wheels/public/simple/\n",
            "Requirement already satisfied: pydot in /usr/local/lib/python3.10/dist-packages (1.4.2)\n",
            "Requirement already satisfied: pyparsing>=2.1.4 in /usr/local/lib/python3.10/dist-packages (from pydot) (3.0.9)\n",
            "Looking in indexes: https://pypi.org/simple, https://us-python.pkg.dev/colab-wheels/public/simple/\n",
            "Requirement already satisfied: pydotplus in /usr/local/lib/python3.10/dist-packages (2.0.2)\n",
            "Requirement already satisfied: pyparsing>=2.0.1 in /usr/local/lib/python3.10/dist-packages (from pydotplus) (3.0.9)\n",
            "Reading package lists... Done\n",
            "Building dependency tree       \n",
            "Reading state information... Done\n",
            "pkg-config is already the newest version (0.29.1-0ubuntu4).\n",
            "graphviz is already the newest version (2.42.2-3build2).\n",
            "The following additional packages will be installed:\n",
            "  libgail-common libgail18 libgtk2.0-0 libgtk2.0-bin libgtk2.0-common\n",
            "  libgvc6-plugins-gtk libxdot4\n",
            "Suggested packages:\n",
            "  gvfs\n",
            "The following NEW packages will be installed:\n",
            "  libgail-common libgail18 libgraphviz-dev libgtk2.0-0 libgtk2.0-bin\n",
            "  libgtk2.0-common libgvc6-plugins-gtk libxdot4\n",
            "0 upgraded, 8 newly installed, 0 to remove and 24 not upgraded.\n",
            "Need to get 2,148 kB of archives.\n",
            "After this operation, 7,427 kB of additional disk space will be used.\n",
            "Get:1 http://archive.ubuntu.com/ubuntu focal/main amd64 libgtk2.0-common all 2.24.32-4ubuntu4 [126 kB]\n",
            "Get:2 http://archive.ubuntu.com/ubuntu focal/main amd64 libgtk2.0-0 amd64 2.24.32-4ubuntu4 [1,791 kB]\n",
            "Get:3 http://archive.ubuntu.com/ubuntu focal/main amd64 libgail18 amd64 2.24.32-4ubuntu4 [14.7 kB]\n",
            "Get:4 http://archive.ubuntu.com/ubuntu focal/main amd64 libgail-common amd64 2.24.32-4ubuntu4 [116 kB]\n",
            "Get:5 http://archive.ubuntu.com/ubuntu focal/universe amd64 libxdot4 amd64 2.42.2-3build2 [15.4 kB]\n",
            "Get:6 http://archive.ubuntu.com/ubuntu focal/universe amd64 libgvc6-plugins-gtk amd64 2.42.2-3build2 [20.6 kB]\n",
            "Get:7 http://archive.ubuntu.com/ubuntu focal/universe amd64 libgraphviz-dev amd64 2.42.2-3build2 [57.2 kB]\n",
            "Get:8 http://archive.ubuntu.com/ubuntu focal/main amd64 libgtk2.0-bin amd64 2.24.32-4ubuntu4 [7,728 B]\n",
            "Fetched 2,148 kB in 1s (3,791 kB/s)\n",
            "Selecting previously unselected package libgtk2.0-common.\n",
            "(Reading database ... 122518 files and directories currently installed.)\n",
            "Preparing to unpack .../0-libgtk2.0-common_2.24.32-4ubuntu4_all.deb ...\n",
            "Unpacking libgtk2.0-common (2.24.32-4ubuntu4) ...\n",
            "Selecting previously unselected package libgtk2.0-0:amd64.\n",
            "Preparing to unpack .../1-libgtk2.0-0_2.24.32-4ubuntu4_amd64.deb ...\n",
            "Unpacking libgtk2.0-0:amd64 (2.24.32-4ubuntu4) ...\n",
            "Selecting previously unselected package libgail18:amd64.\n",
            "Preparing to unpack .../2-libgail18_2.24.32-4ubuntu4_amd64.deb ...\n",
            "Unpacking libgail18:amd64 (2.24.32-4ubuntu4) ...\n",
            "Selecting previously unselected package libgail-common:amd64.\n",
            "Preparing to unpack .../3-libgail-common_2.24.32-4ubuntu4_amd64.deb ...\n",
            "Unpacking libgail-common:amd64 (2.24.32-4ubuntu4) ...\n",
            "Selecting previously unselected package libxdot4:amd64.\n",
            "Preparing to unpack .../4-libxdot4_2.42.2-3build2_amd64.deb ...\n",
            "Unpacking libxdot4:amd64 (2.42.2-3build2) ...\n",
            "Selecting previously unselected package libgvc6-plugins-gtk.\n",
            "Preparing to unpack .../5-libgvc6-plugins-gtk_2.42.2-3build2_amd64.deb ...\n",
            "Unpacking libgvc6-plugins-gtk (2.42.2-3build2) ...\n",
            "Selecting previously unselected package libgraphviz-dev:amd64.\n",
            "Preparing to unpack .../6-libgraphviz-dev_2.42.2-3build2_amd64.deb ...\n",
            "Unpacking libgraphviz-dev:amd64 (2.42.2-3build2) ...\n",
            "Selecting previously unselected package libgtk2.0-bin.\n",
            "Preparing to unpack .../7-libgtk2.0-bin_2.24.32-4ubuntu4_amd64.deb ...\n",
            "Unpacking libgtk2.0-bin (2.24.32-4ubuntu4) ...\n",
            "Setting up libxdot4:amd64 (2.42.2-3build2) ...\n",
            "Setting up libgtk2.0-common (2.24.32-4ubuntu4) ...\n",
            "Setting up libgtk2.0-0:amd64 (2.24.32-4ubuntu4) ...\n",
            "Setting up libgvc6-plugins-gtk (2.42.2-3build2) ...\n",
            "Setting up libgail18:amd64 (2.24.32-4ubuntu4) ...\n",
            "Setting up libgtk2.0-bin (2.24.32-4ubuntu4) ...\n",
            "Setting up libgail-common:amd64 (2.24.32-4ubuntu4) ...\n",
            "Setting up libgraphviz-dev:amd64 (2.42.2-3build2) ...\n",
            "Processing triggers for man-db (2.9.1-1) ...\n",
            "Processing triggers for libc-bin (2.31-0ubuntu9.9) ...\n",
            "Looking in indexes: https://pypi.org/simple, https://us-python.pkg.dev/colab-wheels/public/simple/\n",
            "Collecting pygraphviz\n",
            "  Downloading pygraphviz-1.10.zip (120 kB)\n",
            "\u001b[2K     \u001b[90m━━━━━━━━━━━━━━━━━━━━━━━━━━━━━━━━━━━━━━━\u001b[0m \u001b[32m120.6/120.6 kB\u001b[0m \u001b[31m3.8 MB/s\u001b[0m eta \u001b[36m0:00:00\u001b[0m\n",
            "\u001b[?25h  Preparing metadata (setup.py) ... \u001b[?25l\u001b[?25hdone\n",
            "Building wheels for collected packages: pygraphviz\n",
            "  Building wheel for pygraphviz (setup.py) ... \u001b[?25l\u001b[?25hdone\n",
            "  Created wheel for pygraphviz: filename=pygraphviz-1.10-cp310-cp310-linux_x86_64.whl size=184047 sha256=cb06878bc75face7c489b1d2d7694c80c522d3cc8c055e9846817a869cc87128\n",
            "  Stored in directory: /root/.cache/pip/wheels/e9/50/02/d9d68f6c947a928e517d5cd9af0ab007c1274fdba95fa9cbe3\n",
            "Successfully built pygraphviz\n",
            "Installing collected packages: pygraphviz\n",
            "Successfully installed pygraphviz-1.10\n"
          ]
        }
      ],
      "source": [
        "!apt-get install graphviz -y\n",
        "!pip install pydot\n",
        "!pip install pydotplus\n",
        "!apt-get install -y graphviz libgraphviz-dev pkg-config\n",
        "!pip install pygraphviz\n"
      ]
    },
    {
      "cell_type": "code",
      "execution_count": 6,
      "metadata": {
        "id": "lmaLKJ8qzNaM"
      },
      "outputs": [],
      "source": [
        "import networkx as nx\n",
        "from networkx.drawing.nx_agraph import to_agraph\n",
        "from networkx import DiGraph, set_node_attributes\n",
        "from tensorflow.keras.layers import Dense\n",
        "import keras\n",
        "\n",
        "def unique_index(layer, node):\n",
        "    return str(layer) + \"_\" + str(node)\n",
        "\n",
        "def plot_keras_network(model, filename):\n",
        "    graph = DiGraph(nodesep='1', ranksep='1')\n",
        "    for l in range(len(model.layers)):\n",
        "            layer = model.layers[l]\n",
        "            for n in range(0, layer.input_shape[1]):\n",
        "                if l == 0:\n",
        "                    graph.add_node(\n",
        "                        unique_index(l, n),\n",
        "                        shape=\"circle\",\n",
        "                        color=\"#3498db\",\n",
        "                        label=''\n",
        "                    )\n",
        "                else:\n",
        "                    graph.add_node(\n",
        "                        unique_index(l, n),\n",
        "                        shape=\"circle\",\n",
        "                        color=\"#2ecc71\",\n",
        "                        label=''\n",
        "                    )\n",
        "\n",
        "                for h in range(0, layer.output_shape[1]):\n",
        "                    if l == len(model.layers) - 1:\n",
        "                        graph.add_node(\n",
        "                            unique_index(l + 1, h),\n",
        "                            shape=\"circle\",\n",
        "                            color=\"#3498db\",\n",
        "                            label=''\n",
        "                        )\n",
        "                    graph.add_edge(\n",
        "                        unique_index(l, n),\n",
        "                        unique_index(l + 1, h),\n",
        "                        color=\"#B20000\"\n",
        "                    )\n",
        "    agraph = to_agraph(graph)\n",
        "    agraph.draw(filename, prog='dot')\n"
      ]
    },
    {
      "cell_type": "code",
      "execution_count": 25,
      "metadata": {
        "id": "nNi26IUCFD5X"
      },
      "outputs": [],
      "source": [
        "model = keras.models.Sequential()\n",
        "model.add(keras.layers.Dense(2, input_dim=2))\n",
        "model.add(keras.layers.Dense(1))\n",
        "model.compile(loss=\"binary_crossentropy\")\n",
        "plot_keras_network(model, \"1_a_model.png\")\n"
      ]
    },
    {
      "cell_type": "markdown",
      "metadata": {
        "id": "fcKPK2uIzNaN"
      },
      "source": [
        "b) Generate 100 datapoints of the form y = 3x + 1 + e where e ~ N(0, 1) and plot the data in a scatter plot [2.5pts]"
      ]
    },
    {
      "cell_type": "code",
      "execution_count": 22,
      "metadata": {
        "colab": {
          "base_uri": "https://localhost:8080/",
          "height": 472
        },
        "id": "1G-kaxpKzNaN",
        "outputId": "02602c54-6994-494b-80d9-1c53de6cc8ca"
      },
      "outputs": [
        {
          "output_type": "display_data",
          "data": {
            "text/plain": [
              "<Figure size 640x480 with 1 Axes>"
            ],
            "image/png": "[encoded data removed]"
          },
          "metadata": {}
        }
      ],
      "source": [
        "import numpy as np\n",
        "import matplotlib.pyplot as plt\n",
        "\n",
        "np.random.seed(42)\n",
        "x = np.random.uniform(size=100)\n",
        "e = np.random.normal(loc=0, scale=1, size=100)\n",
        "y = 3 * x + 1 + e\n",
        "\n",
        "plt.scatter(x, y)\n",
        "plt.title('Scatter plot of y = 3x + 1 + e')\n",
        "plt.xlabel('x')\n",
        "plt.ylabel('y')\n",
        "plt.show()\n"
      ]
    },
    {
      "cell_type": "markdown",
      "metadata": {
        "id": "J-dAQtkOzNaN"
      },
      "source": [
        "c) Create a Neural Network with no hidden layers (just input to ouput each with just one neuron), using the `mean_squared_error` loss and no activation function. Create an image of this model using a) then train this model on the dataset from b). In a 3D plot, plot the weight, the bias, and the loss value. [5pts]"
      ]
    },
    {
      "cell_type": "code",
      "execution_count": 9,
      "metadata": {
        "colab": {
          "base_uri": "https://localhost:8080/",
          "height": 485
        },
        "id": "pNN2NJpRzNaN",
        "outputId": "737f0296-9fce-415f-d02b-1587b234e3c0"
      },
      "outputs": [
        {
          "output_type": "stream",
          "name": "stderr",
          "text": [
            "/usr/local/lib/python3.10/dist-packages/keras/optimizers/legacy/gradient_descent.py:114: UserWarning: The `lr` argument is deprecated, use `learning_rate` instead.\n",
            "  super().__init__(name, **kwargs)\n"
          ]
        },
        {
          "output_type": "stream",
          "name": "stdout",
          "text": [
            "4/4 [==============================] - 0s 4ms/step - loss: 0.8568\n"
          ]
        },
        {
          "output_type": "display_data",
          "data": {
            "text/plain": [
              "<Figure size 640x480 with 1 Axes>"
            ],
            "image/png": "[encoded data removed]"
          },
          "metadata": {}
        }
      ],
      "source": [
        "from tensorflow.keras.models import Sequential\n",
        "from tensorflow.keras.layers import Dense, Input\n",
        "\n",
        "input_shape = (1,)\n",
        "\n",
        "model = Sequential([\n",
        "    Input(shape=input_shape),\n",
        "    Dense(1, activation=None)\n",
        "])\n",
        "\n",
        "model.compile(loss='mean_squared_error', optimizer=keras.optimizers.SGD(lr=0.01))\n",
        "\n",
        "plot_keras_network(model, \"1_c_model.png\")\n",
        "\n",
        "model.fit(x, y, epochs=100, batch_size=30, verbose=0)\n",
        "\n",
        "weight, bias = model.layers[0].get_weights()\n",
        "loss = model.evaluate(x, y)\n",
        "\n",
        "fig = plt.figure()\n",
        "ax = fig.add_subplot(111, projection='3d')\n",
        "ax.scatter(weight, bias, loss)\n",
        "ax.set_xlabel('Weight')\n",
        "ax.set_ylabel('Bias')\n",
        "ax.set_zlabel('Loss')\n",
        "plt.show()"
      ]
    },
    {
      "cell_type": "markdown",
      "metadata": {
        "id": "tK_w6yjrzNaN"
      },
      "source": [
        "d) Re-train the model from c) and create an animation of the weight, bias, and loss at each training epoch. [5pts]"
      ]
    },
    {
      "cell_type": "code",
      "execution_count": 23,
      "metadata": {
        "colab": {
          "base_uri": "https://localhost:8080/",
          "height": 1000
        },
        "id": "v2_C3dHJzNaO",
        "outputId": "669cbc97-d24a-491d-bbc9-03d7c7808e75"
      },
      "outputs": [
        {
          "output_type": "stream",
          "name": "stderr",
          "text": [
            "/usr/local/lib/python3.10/dist-packages/keras/optimizers/legacy/gradient_descent.py:114: UserWarning: The `lr` argument is deprecated, use `learning_rate` instead.\n",
            "  super().__init__(name, **kwargs)\n"
          ]
        },
        {
          "output_type": "stream",
          "name": "stdout",
          "text": [
            "4/4 [==============================] - 0s 4ms/step - loss: 6.4131\n",
            "4/4 [==============================] - 0s 4ms/step - loss: 5.6974\n",
            "4/4 [==============================] - 0s 3ms/step - loss: 5.4549\n",
            "4/4 [==============================] - 0s 4ms/step - loss: 4.8811\n",
            "4/4 [==============================] - 0s 4ms/step - loss: 4.6816\n",
            "4/4 [==============================] - 0s 5ms/step - loss: 4.2239\n",
            "4/4 [==============================] - 0s 4ms/step - loss: 4.0561\n",
            "4/4 [==============================] - 0s 3ms/step - loss: 3.6424\n",
            "4/4 [==============================] - 0s 4ms/step - loss: 3.5057\n",
            "4/4 [==============================] - 0s 4ms/step - loss: 3.1948\n",
            "4/4 [==============================] - 0s 5ms/step - loss: 3.0786\n",
            "4/4 [==============================] - 0s 3ms/step - loss: 2.7599\n",
            "4/4 [==============================] - 0s 3ms/step - loss: 2.6666\n",
            "4/4 [==============================] - 0s 4ms/step - loss: 2.4076\n",
            "4/4 [==============================] - 0s 4ms/step - loss: 2.3323\n",
            "4/4 [==============================] - 0s 3ms/step - loss: 2.1373\n",
            "4/4 [==============================] - 0s 4ms/step - loss: 2.0759\n",
            "4/4 [==============================] - 0s 4ms/step - loss: 1.9105\n",
            "4/4 [==============================] - 0s 4ms/step - loss: 1.8622\n",
            "4/4 [==============================] - 0s 3ms/step - loss: 1.7563\n",
            "4/4 [==============================] - 0s 4ms/step - loss: 1.7163\n",
            "4/4 [==============================] - 0s 3ms/step - loss: 1.6189\n",
            "4/4 [==============================] - 0s 3ms/step - loss: 1.5842\n",
            "4/4 [==============================] - 0s 3ms/step - loss: 1.4875\n",
            "4/4 [==============================] - 0s 4ms/step - loss: 1.4615\n",
            "4/4 [==============================] - 0s 3ms/step - loss: 1.4052\n",
            "4/4 [==============================] - 0s 4ms/step - loss: 1.3829\n",
            "4/4 [==============================] - 0s 3ms/step - loss: 1.3388\n",
            "4/4 [==============================] - 0s 3ms/step - loss: 1.3195\n",
            "4/4 [==============================] - 0s 3ms/step - loss: 1.2700\n",
            "4/4 [==============================] - 0s 4ms/step - loss: 1.2533\n",
            "4/4 [==============================] - 0s 5ms/step - loss: 1.2013\n",
            "4/4 [==============================] - 0s 3ms/step - loss: 1.1885\n",
            "4/4 [==============================] - 0s 3ms/step - loss: 1.1604\n",
            "4/4 [==============================] - 0s 4ms/step - loss: 1.1511\n",
            "4/4 [==============================] - 0s 3ms/step - loss: 1.1444\n",
            "4/4 [==============================] - 0s 3ms/step - loss: 1.1350\n",
            "4/4 [==============================] - 0s 3ms/step - loss: 1.1085\n",
            "4/4 [==============================] - 0s 4ms/step - loss: 1.0999\n",
            "4/4 [==============================] - 0s 3ms/step - loss: 1.0710\n",
            "4/4 [==============================] - 0s 3ms/step - loss: 1.0642\n",
            "4/4 [==============================] - 0s 4ms/step - loss: 1.0416\n",
            "4/4 [==============================] - 0s 3ms/step - loss: 1.0365\n",
            "4/4 [==============================] - 0s 3ms/step - loss: 1.0280\n",
            "4/4 [==============================] - 0s 4ms/step - loss: 1.0232\n",
            "4/4 [==============================] - 0s 3ms/step - loss: 1.0051\n",
            "4/4 [==============================] - 0s 5ms/step - loss: 1.0022\n",
            "4/4 [==============================] - 0s 5ms/step - loss: 0.9986\n",
            "4/4 [==============================] - 0s 5ms/step - loss: 0.9962\n",
            "4/4 [==============================] - 0s 5ms/step - loss: 0.9925\n",
            "4/4 [==============================] - 0s 4ms/step - loss: 0.9895\n",
            "4/4 [==============================] - 0s 5ms/step - loss: 0.9818\n",
            "4/4 [==============================] - 0s 5ms/step - loss: 0.9792\n",
            "4/4 [==============================] - 0s 4ms/step - loss: 0.9673\n",
            "4/4 [==============================] - 0s 5ms/step - loss: 0.9659\n",
            "4/4 [==============================] - 0s 3ms/step - loss: 0.9663\n",
            "4/4 [==============================] - 0s 3ms/step - loss: 0.9648\n",
            "4/4 [==============================] - 0s 3ms/step - loss: 0.9638\n",
            "4/4 [==============================] - 0s 3ms/step - loss: 0.9625\n",
            "4/4 [==============================] - 0s 3ms/step - loss: 0.9635\n",
            "4/4 [==============================] - 0s 3ms/step - loss: 0.9623\n",
            "4/4 [==============================] - 0s 3ms/step - loss: 0.9561\n",
            "4/4 [==============================] - 0s 3ms/step - loss: 0.9548\n",
            "4/4 [==============================] - 0s 3ms/step - loss: 0.9555\n",
            "4/4 [==============================] - 0s 3ms/step - loss: 0.9542\n",
            "4/4 [==============================] - 0s 3ms/step - loss: 0.9517\n",
            "4/4 [==============================] - 0s 4ms/step - loss: 0.9513\n",
            "4/4 [==============================] - 0s 3ms/step - loss: 0.9450\n",
            "4/4 [==============================] - 0s 4ms/step - loss: 0.9441\n",
            "4/4 [==============================] - 0s 4ms/step - loss: 0.9360\n",
            "4/4 [==============================] - 0s 4ms/step - loss: 0.9354\n",
            "4/4 [==============================] - 0s 3ms/step - loss: 0.9350\n",
            "4/4 [==============================] - 0s 4ms/step - loss: 0.9342\n",
            "4/4 [==============================] - 0s 3ms/step - loss: 0.9303\n",
            "4/4 [==============================] - 0s 5ms/step - loss: 0.9296\n",
            "4/4 [==============================] - 0s 5ms/step - loss: 0.9257\n",
            "4/4 [==============================] - 0s 4ms/step - loss: 0.9255\n",
            "4/4 [==============================] - 0s 3ms/step - loss: 0.9235\n",
            "4/4 [==============================] - 0s 4ms/step - loss: 0.9234\n",
            "4/4 [==============================] - 0s 3ms/step - loss: 0.9223\n",
            "4/4 [==============================] - 0s 3ms/step - loss: 0.9224\n",
            "4/4 [==============================] - 0s 3ms/step - loss: 0.9221\n",
            "4/4 [==============================] - 0s 3ms/step - loss: 0.9216\n",
            "4/4 [==============================] - 0s 3ms/step - loss: 0.9195\n",
            "4/4 [==============================] - 0s 4ms/step - loss: 0.9199\n",
            "4/4 [==============================] - 0s 3ms/step - loss: 0.9190\n",
            "4/4 [==============================] - 0s 3ms/step - loss: 0.9189\n",
            "4/4 [==============================] - 0s 4ms/step - loss: 0.9176\n",
            "4/4 [==============================] - 0s 3ms/step - loss: 0.9178\n",
            "4/4 [==============================] - 0s 3ms/step - loss: 0.9166\n",
            "4/4 [==============================] - 0s 4ms/step - loss: 0.9163\n",
            "4/4 [==============================] - 0s 3ms/step - loss: 0.9139\n",
            "4/4 [==============================] - 0s 4ms/step - loss: 0.9142\n",
            "4/4 [==============================] - 0s 3ms/step - loss: 0.9112\n",
            "4/4 [==============================] - 0s 5ms/step - loss: 0.9114\n",
            "4/4 [==============================] - 0s 4ms/step - loss: 0.9096\n",
            "4/4 [==============================] - 0s 4ms/step - loss: 0.9096\n",
            "4/4 [==============================] - 0s 4ms/step - loss: 0.9086\n",
            "4/4 [==============================] - 0s 4ms/step - loss: 0.9093\n",
            "4/4 [==============================] - 0s 3ms/step - loss: 0.9073\n",
            "4/4 [==============================] - 0s 3ms/step - loss: 0.9074\n",
            "4/4 [==============================] - 0s 3ms/step - loss: 0.9058\n",
            "4/4 [==============================] - 0s 3ms/step - loss: 0.9056\n",
            "4/4 [==============================] - 0s 3ms/step - loss: 0.9049\n",
            "4/4 [==============================] - 0s 3ms/step - loss: 0.9055\n",
            "4/4 [==============================] - 0s 3ms/step - loss: 0.9042\n",
            "4/4 [==============================] - 0s 3ms/step - loss: 0.9045\n",
            "4/4 [==============================] - 0s 4ms/step - loss: 0.9028\n",
            "4/4 [==============================] - 0s 3ms/step - loss: 0.9027\n",
            "4/4 [==============================] - 0s 3ms/step - loss: 0.9020\n",
            "4/4 [==============================] - 0s 3ms/step - loss: 0.9021\n",
            "4/4 [==============================] - 0s 3ms/step - loss: 0.9014\n",
            "4/4 [==============================] - 0s 4ms/step - loss: 0.9012\n",
            "4/4 [==============================] - 0s 3ms/step - loss: 0.9004\n",
            "4/4 [==============================] - 0s 3ms/step - loss: 0.9005\n",
            "4/4 [==============================] - 0s 3ms/step - loss: 0.8991\n",
            "4/4 [==============================] - 0s 3ms/step - loss: 0.8989\n",
            "4/4 [==============================] - 0s 6ms/step - loss: 0.8986\n",
            "4/4 [==============================] - 0s 5ms/step - loss: 0.8992\n",
            "4/4 [==============================] - 0s 4ms/step - loss: 0.8968\n",
            "4/4 [==============================] - 0s 4ms/step - loss: 0.8966\n",
            "4/4 [==============================] - 0s 4ms/step - loss: 0.8958\n",
            "4/4 [==============================] - 0s 5ms/step - loss: 0.8960\n",
            "4/4 [==============================] - 0s 5ms/step - loss: 0.8948\n",
            "4/4 [==============================] - 0s 4ms/step - loss: 0.8951\n",
            "4/4 [==============================] - 0s 4ms/step - loss: 0.8943\n",
            "4/4 [==============================] - 0s 5ms/step - loss: 0.8948\n",
            "4/4 [==============================] - 0s 4ms/step - loss: 0.8939\n",
            "4/4 [==============================] - 0s 4ms/step - loss: 0.8940\n",
            "4/4 [==============================] - 0s 4ms/step - loss: 0.8920\n",
            "4/4 [==============================] - 0s 4ms/step - loss: 0.8926\n",
            "4/4 [==============================] - 0s 3ms/step - loss: 0.8909\n",
            "4/4 [==============================] - 0s 4ms/step - loss: 0.8916\n",
            "4/4 [==============================] - 0s 3ms/step - loss: 0.8899\n",
            "4/4 [==============================] - 0s 4ms/step - loss: 0.8896\n",
            "4/4 [==============================] - 0s 4ms/step - loss: 0.8884\n",
            "4/4 [==============================] - 0s 3ms/step - loss: 0.8889\n",
            "4/4 [==============================] - 0s 3ms/step - loss: 0.8877\n",
            "4/4 [==============================] - 0s 3ms/step - loss: 0.8879\n",
            "4/4 [==============================] - 0s 3ms/step - loss: 0.8876\n",
            "4/4 [==============================] - 0s 4ms/step - loss: 0.8879\n",
            "4/4 [==============================] - 0s 5ms/step - loss: 0.8851\n",
            "4/4 [==============================] - 0s 3ms/step - loss: 0.8860\n",
            "4/4 [==============================] - 0s 4ms/step - loss: 0.8843\n",
            "4/4 [==============================] - 0s 4ms/step - loss: 0.8842\n",
            "4/4 [==============================] - 0s 5ms/step - loss: 0.8835\n",
            "4/4 [==============================] - 0s 3ms/step - loss: 0.8834\n",
            "4/4 [==============================] - 0s 5ms/step - loss: 0.8834\n",
            "4/4 [==============================] - 0s 5ms/step - loss: 0.8832\n",
            "4/4 [==============================] - 0s 5ms/step - loss: 0.8826\n",
            "4/4 [==============================] - 0s 5ms/step - loss: 0.8825\n",
            "4/4 [==============================] - 0s 7ms/step - loss: 0.8809\n",
            "4/4 [==============================] - 0s 3ms/step - loss: 0.8810\n",
            "4/4 [==============================] - 0s 5ms/step - loss: 0.8814\n",
            "4/4 [==============================] - 0s 5ms/step - loss: 0.8820\n",
            "4/4 [==============================] - 0s 4ms/step - loss: 0.8788\n",
            "4/4 [==============================] - 0s 3ms/step - loss: 0.8788\n",
            "4/4 [==============================] - 0s 4ms/step - loss: 0.8785\n",
            "4/4 [==============================] - 0s 4ms/step - loss: 0.8783\n",
            "4/4 [==============================] - 0s 6ms/step - loss: 0.8781\n",
            "4/4 [==============================] - 0s 4ms/step - loss: 0.8786\n",
            "4/4 [==============================] - 0s 3ms/step - loss: 0.8762\n",
            "4/4 [==============================] - 0s 3ms/step - loss: 0.8768\n",
            "4/4 [==============================] - 0s 3ms/step - loss: 0.8755\n",
            "4/4 [==============================] - 0s 6ms/step - loss: 0.8767\n",
            "4/4 [==============================] - 0s 4ms/step - loss: 0.8745\n",
            "4/4 [==============================] - 0s 3ms/step - loss: 0.8747\n",
            "4/4 [==============================] - 0s 3ms/step - loss: 0.8746\n",
            "4/4 [==============================] - 0s 4ms/step - loss: 0.8750\n",
            "4/4 [==============================] - 0s 4ms/step - loss: 0.8734\n",
            "4/4 [==============================] - 0s 4ms/step - loss: 0.8732\n",
            "4/4 [==============================] - 0s 5ms/step - loss: 0.8723\n",
            "4/4 [==============================] - 0s 5ms/step - loss: 0.8726\n",
            "4/4 [==============================] - 0s 3ms/step - loss: 0.8716\n",
            "4/4 [==============================] - 0s 6ms/step - loss: 0.8718\n",
            "4/4 [==============================] - 0s 3ms/step - loss: 0.8710\n",
            "4/4 [==============================] - 0s 4ms/step - loss: 0.8713\n",
            "4/4 [==============================] - 0s 4ms/step - loss: 0.8698\n",
            "4/4 [==============================] - 0s 3ms/step - loss: 0.8699\n",
            "4/4 [==============================] - 0s 3ms/step - loss: 0.8683\n",
            "4/4 [==============================] - 0s 4ms/step - loss: 0.8682\n",
            "4/4 [==============================] - 0s 3ms/step - loss: 0.8680\n",
            "4/4 [==============================] - 0s 4ms/step - loss: 0.8692\n",
            "4/4 [==============================] - 0s 4ms/step - loss: 0.8673\n",
            "4/4 [==============================] - 0s 7ms/step - loss: 0.8673\n",
            "4/4 [==============================] - 0s 5ms/step - loss: 0.8665\n",
            "4/4 [==============================] - 0s 4ms/step - loss: 0.8666\n",
            "4/4 [==============================] - 0s 4ms/step - loss: 0.8657\n",
            "4/4 [==============================] - 0s 3ms/step - loss: 0.8656\n",
            "4/4 [==============================] - 0s 3ms/step - loss: 0.8652\n",
            "4/4 [==============================] - 0s 5ms/step - loss: 0.8658\n",
            "4/4 [==============================] - 0s 5ms/step - loss: 0.8645\n",
            "4/4 [==============================] - 0s 5ms/step - loss: 0.8652\n",
            "4/4 [==============================] - 0s 5ms/step - loss: 0.8640\n",
            "4/4 [==============================] - 0s 6ms/step - loss: 0.8639\n",
            "4/4 [==============================] - 0s 6ms/step - loss: 0.8632\n",
            "4/4 [==============================] - 0s 4ms/step - loss: 0.8631\n",
            "4/4 [==============================] - 0s 4ms/step - loss: 0.8628\n",
            "4/4 [==============================] - 0s 4ms/step - loss: 0.8629\n",
            "4/4 [==============================] - 0s 4ms/step - loss: 0.8621\n",
            "4/4 [==============================] - 0s 5ms/step - loss: 0.8623\n",
            "4/4 [==============================] - 0s 3ms/step - loss: 0.8615\n",
            "4/4 [==============================] - 0s 4ms/step - loss: 0.8615\n",
            "4/4 [==============================] - 0s 4ms/step - loss: 0.8609\n"
          ]
        },
        {
          "output_type": "display_data",
          "data": {
            "text/plain": [
              "<Figure size 640x480 with 1 Axes>"
            ],
            "image/png": "[encoded data removed]"
          },
          "metadata": {}
        }
      ],
      "source": [
        "from tensorflow.keras.models import Sequential\n",
        "from tensorflow.keras.layers import Dense\n",
        "import keras\n",
        "import numpy as np\n",
        "import matplotlib.pyplot as plt\n",
        "from mpl_toolkits.mplot3d import Axes3D\n",
        "from matplotlib.animation import FuncAnimation\n",
        "\n",
        "input_shape = (1,)\n",
        "\n",
        "model = Sequential([\n",
        "    Input(shape=input_shape),\n",
        "    Dense(1, activation=None)\n",
        "])\n",
        "\n",
        "model.compile(loss='mean_squared_error', optimizer=keras.optimizers.SGD(lr=0.01))\n",
        "\n",
        "def update(i):\n",
        "  model.fit(x, y, epochs=1, batch_size=32)\n",
        "  weight, bias = model.layers[0].get_weights()\n",
        "  loss = model.evaluate(x, y)\n",
        "\n",
        "  ax.clear()\n",
        "  ax.scatter(weight, bias, loss)\n",
        "  ax.set_xlabel('Weight')\n",
        "  ax.set_ylabel('Bias')\n",
        "  ax.set_zlabel('Loss')\n",
        "  ax.set_title('Epoch {}'.format(i))\n",
        "\n",
        "  ax.set_xlim([-3.5, 3.5])\n",
        "  ax.set_ylim([-3.5, 3.5])\n",
        "  ax.set_zlim([-3.5, 3.5])\n",
        "\n",
        "fig = plt.figure()\n",
        "ax = plt.axes(projection='3d')\n",
        "ani = FuncAnimation(fig, update, frames=100, interval=200, repeat=True)\n",
        "\n",
        "ani.save('1_d_animation.gif', writer=\"pillow\", fps=10)"
      ]
    },
    {
      "cell_type": "markdown",
      "metadata": {
        "id": "CALTnChLzNaO"
      },
      "source": [
        "e) Generate data of the form y = 3x^3 + 2x^2 + x + 1 + e where e ~ N(0, 1) and plot the data in a scatter plot [2.5pts]"
      ]
    },
    {
      "cell_type": "code",
      "execution_count": 26,
      "metadata": {
        "colab": {
          "base_uri": "https://localhost:8080/",
          "height": 472
        },
        "id": "Fvq7NoH4zNaO",
        "outputId": "ad7d80b1-0926-4b9b-b68e-d08e4c70f846"
      },
      "outputs": [
        {
          "output_type": "display_data",
          "data": {
            "text/plain": [
              "<Figure size 640x480 with 1 Axes>"
            ],
            "image/png": "[encoded data removed]"
          },
          "metadata": {}
        }
      ],
      "source": [
        "import numpy as np\n",
        "import matplotlib.pyplot as plt\n",
        "\n",
        "np.random.seed(42)\n",
        "x = np.random.uniform(size=100)\n",
        "e = np.random.normal(loc=0, scale=1, size=100)\n",
        "y = 3 * x ** 3 + 2 * x ** 2 + x + 1 + e\n",
        "\n",
        "plt.scatter(x, y)\n",
        "plt.title('y = 3x^3 + 2x^2 + x + 1 + e')\n",
        "plt.xlabel('x')\n",
        "plt.ylabel('y')\n",
        "plt.show()\n"
      ]
    },
    {
      "cell_type": "markdown",
      "metadata": {
        "id": "7UrEOJWPzNaO"
      },
      "source": [
        "f) Create and train a neural network on the dataset from b) and plot the resulting curve through the scatter plot. (you can use any number of epochs, hidden layers etc.) Also create an image of the network using the function from a) [5pts]"
      ]
    },
    {
      "cell_type": "code",
      "source": [
        "import numpy as np\n",
        "import matplotlib.pyplot as plt\n",
        "from tensorflow.keras.models import Sequential\n",
        "from tensorflow.keras.layers import Dense\n",
        "from sklearn.metrics import mean_squared_error\n",
        "\n",
        "model = Sequential()\n",
        "model.add(Dense(100, input_shape=(1,), activation='relu'))\n",
        "model.add(Dense(100, activation='relu'))\n",
        "model.add(Dense(1))\n",
        "model.compile(optimizer='adam', loss='mse')\n",
        "\n",
        "plot_keras_network(model, '1_f_model.png')"
      ],
      "metadata": {
        "id": "9vyeNnSQjmv_"
      },
      "execution_count": 24,
      "outputs": []
    },
    {
      "cell_type": "code",
      "execution_count": 20,
      "metadata": {
        "colab": {
          "base_uri": "https://localhost:8080/",
          "height": 507
        },
        "id": "O1qffkrJzNaO",
        "outputId": "ea98ab3e-aaef-4f29-fedf-2a9869b18d6a"
      },
      "outputs": [
        {
          "output_type": "stream",
          "name": "stdout",
          "text": [
            "4/4 [==============================] - 0s 3ms/step\n",
            "Normalized MSE: 0.016199355399493468\n"
          ]
        },
        {
          "output_type": "display_data",
          "data": {
            "text/plain": [
              "<Figure size 640x480 with 1 Axes>"
            ],
            "image/png": "[encoded data removed]"
          },
          "metadata": {}
        }
      ],
      "source": [
        "model.fit(x, y, epochs=100, verbose=0)\n",
        "y_pred = model.predict(x)\n",
        "\n",
        "mse = mean_squared_error(y, y_pred)\n",
        "y_range = np.max(y) - np.min(y)\n",
        "mse_norm = mse / y_range ** 2\n",
        "print(\"Normalized MSE:\", mse_norm)\n",
        "\n",
        "plt.scatter(x, y)\n",
        "plt.scatter(x, y_pred, color='red')\n",
        "plt.title('Prediction after 1000 Epochs')\n",
        "plt.xlabel('x')\n",
        "plt.ylabel('y')\n",
        "plt.show()"
      ]
    },
    {
      "cell_type": "markdown",
      "metadata": {
        "id": "eCtRXPPIzNaO"
      },
      "source": [
        "g) Using matplotlib animation, create an animation of the resulting curve from your model at each training epoch (up to 100 epochs). [5pts]"
      ]
    },
    {
      "cell_type": "code",
      "execution_count": 27,
      "metadata": {
        "colab": {
          "base_uri": "https://localhost:8080/",
          "height": 1000
        },
        "id": "obpG2UdRzNaO",
        "outputId": "42f5d2e6-3e50-4a65-db6b-3389bd6269ed"
      },
      "outputs": [
        {
          "output_type": "stream",
          "name": "stdout",
          "text": [
            "4/4 [==============================] - 0s 3ms/step\n",
            "4/4 [==============================] - 0s 3ms/step\n",
            "4/4 [==============================] - 0s 3ms/step\n",
            "4/4 [==============================] - 0s 3ms/step\n",
            "4/4 [==============================] - 0s 6ms/step\n",
            "4/4 [==============================] - 0s 4ms/step\n",
            "4/4 [==============================] - 0s 4ms/step\n",
            "4/4 [==============================] - 0s 5ms/step\n",
            "4/4 [==============================] - 0s 3ms/step\n",
            "4/4 [==============================] - 0s 3ms/step\n",
            "4/4 [==============================] - 0s 3ms/step\n",
            "4/4 [==============================] - 0s 3ms/step\n",
            "4/4 [==============================] - 0s 3ms/step\n",
            "4/4 [==============================] - 0s 4ms/step\n",
            "4/4 [==============================] - 0s 3ms/step\n",
            "4/4 [==============================] - 0s 4ms/step\n",
            "4/4 [==============================] - 0s 3ms/step\n",
            "4/4 [==============================] - 0s 4ms/step\n",
            "4/4 [==============================] - 0s 4ms/step\n",
            "4/4 [==============================] - 0s 3ms/step\n",
            "4/4 [==============================] - 0s 4ms/step\n",
            "4/4 [==============================] - 0s 3ms/step\n",
            "4/4 [==============================] - 0s 3ms/step\n",
            "4/4 [==============================] - 0s 3ms/step\n",
            "4/4 [==============================] - 0s 4ms/step\n",
            "4/4 [==============================] - 0s 3ms/step\n",
            "4/4 [==============================] - 0s 4ms/step\n",
            "4/4 [==============================] - 0s 3ms/step\n",
            "4/4 [==============================] - 0s 4ms/step\n",
            "4/4 [==============================] - 0s 4ms/step\n",
            "4/4 [==============================] - 0s 3ms/step\n",
            "4/4 [==============================] - 0s 3ms/step\n",
            "4/4 [==============================] - 0s 6ms/step\n",
            "4/4 [==============================] - 0s 3ms/step\n",
            "4/4 [==============================] - 0s 3ms/step\n",
            "4/4 [==============================] - 0s 3ms/step\n",
            "4/4 [==============================] - 0s 4ms/step\n",
            "4/4 [==============================] - 0s 3ms/step\n",
            "4/4 [==============================] - 0s 3ms/step\n",
            "4/4 [==============================] - 0s 3ms/step\n",
            "4/4 [==============================] - 0s 5ms/step\n",
            "4/4 [==============================] - 0s 3ms/step\n",
            "4/4 [==============================] - 0s 5ms/step\n",
            "4/4 [==============================] - 0s 4ms/step\n",
            "4/4 [==============================] - 0s 3ms/step\n",
            "4/4 [==============================] - 0s 2ms/step\n",
            "4/4 [==============================] - 0s 3ms/step\n",
            "4/4 [==============================] - 0s 3ms/step\n",
            "4/4 [==============================] - 0s 3ms/step\n",
            "4/4 [==============================] - 0s 3ms/step\n",
            "4/4 [==============================] - 0s 3ms/step\n",
            "4/4 [==============================] - 0s 4ms/step\n",
            "4/4 [==============================] - 0s 3ms/step\n",
            "4/4 [==============================] - 0s 3ms/step\n",
            "4/4 [==============================] - 0s 3ms/step\n",
            "4/4 [==============================] - 0s 3ms/step\n",
            "4/4 [==============================] - 0s 3ms/step\n",
            "4/4 [==============================] - 0s 3ms/step\n",
            "4/4 [==============================] - 0s 3ms/step\n",
            "4/4 [==============================] - 0s 3ms/step\n",
            "4/4 [==============================] - 0s 3ms/step\n",
            "4/4 [==============================] - 0s 2ms/step\n",
            "4/4 [==============================] - 0s 4ms/step\n",
            "4/4 [==============================] - 0s 3ms/step\n",
            "4/4 [==============================] - 0s 3ms/step\n",
            "4/4 [==============================] - 0s 3ms/step\n",
            "4/4 [==============================] - 0s 4ms/step\n",
            "4/4 [==============================] - 0s 3ms/step\n",
            "4/4 [==============================] - 0s 4ms/step\n",
            "4/4 [==============================] - 0s 3ms/step\n",
            "4/4 [==============================] - 0s 3ms/step\n",
            "4/4 [==============================] - 0s 4ms/step\n",
            "4/4 [==============================] - 0s 4ms/step\n",
            "4/4 [==============================] - 0s 5ms/step\n",
            "4/4 [==============================] - 0s 5ms/step\n",
            "4/4 [==============================] - 0s 5ms/step\n",
            "4/4 [==============================] - 0s 5ms/step\n",
            "4/4 [==============================] - 0s 4ms/step\n",
            "4/4 [==============================] - 0s 3ms/step\n",
            "4/4 [==============================] - 0s 3ms/step\n",
            "4/4 [==============================] - 0s 3ms/step\n",
            "4/4 [==============================] - 0s 3ms/step\n",
            "4/4 [==============================] - 0s 4ms/step\n",
            "4/4 [==============================] - 0s 3ms/step\n",
            "4/4 [==============================] - 0s 3ms/step\n",
            "4/4 [==============================] - 0s 4ms/step\n",
            "4/4 [==============================] - 0s 3ms/step\n",
            "4/4 [==============================] - 0s 4ms/step\n",
            "4/4 [==============================] - 0s 3ms/step\n",
            "4/4 [==============================] - 0s 4ms/step\n",
            "4/4 [==============================] - 0s 3ms/step\n",
            "4/4 [==============================] - 0s 3ms/step\n",
            "4/4 [==============================] - 0s 4ms/step\n",
            "4/4 [==============================] - 0s 3ms/step\n",
            "4/4 [==============================] - 0s 3ms/step\n",
            "4/4 [==============================] - 0s 3ms/step\n",
            "4/4 [==============================] - 0s 3ms/step\n",
            "4/4 [==============================] - 0s 4ms/step\n",
            "4/4 [==============================] - 0s 3ms/step\n",
            "4/4 [==============================] - 0s 4ms/step\n",
            "4/4 [==============================] - 0s 3ms/step\n",
            "4/4 [==============================] - 0s 4ms/step\n"
          ]
        },
        {
          "output_type": "display_data",
          "data": {
            "text/plain": [
              "<Figure size 640x480 with 1 Axes>"
            ],
            "image/png": "[encoded data removed]"
          },
          "metadata": {}
        }
      ],
      "source": [
        "import numpy as np\n",
        "import matplotlib.pyplot as plt\n",
        "from matplotlib.animation import FuncAnimation\n",
        "from tensorflow.keras.models import Sequential\n",
        "from tensorflow.keras.layers import Dense\n",
        "from sklearn.metrics import mean_squared_error\n",
        "\n",
        "model = Sequential()\n",
        "model.add(Dense(100, input_shape=(1,), activation='relu'))\n",
        "model.add(Dense(100, activation='relu'))\n",
        "model.add(Dense(1))\n",
        "model.compile(optimizer='adam', loss='mse')\n",
        "\n",
        "fig, ax = plt.subplots()\n",
        "ax.set_xlabel('x')\n",
        "ax.set_ylabel('y')\n",
        "ax.set_ylim(-110, 110)\n",
        "\n",
        "def update(i):\n",
        "    model.fit(x, y, epochs=1, verbose=0)\n",
        "    y_pred = model.predict(x)\n",
        "    mse = mean_squared_error(y, y_pred)\n",
        "    y_range = np.max(y) - np.min(y)\n",
        "    mse_norm = mse / y_range ** 2\n",
        "    ax.clear()\n",
        "    ax.scatter(x, y)\n",
        "    ax.scatter(x, y_pred, color='red')\n",
        "    ax.set_title(f'Epoch {i+1} - Normalized MSE: {mse_norm:.4f}')\n",
        "    ax.set_xlabel('x')\n",
        "    ax.set_ylabel('y')\n",
        "    ax.set_ylim(np.min(y) - 10, np.max(y) + 10)\n",
        "    fig.tight_layout()\n",
        "\n",
        "ani = FuncAnimation(fig, update, frames=100, interval=200)\n",
        "ani.save('1_g_animation.gif', writer='pillow', fps=5)\n"
      ]
    },
    {
      "cell_type": "markdown",
      "metadata": {
        "id": "yNYxJUuvzNaO"
      },
      "source": [
        "## Exercise 2 [50pts]\n",
        "\n",
        "In this excerise we will be implementing logic gates in various forms."
      ]
    },
    {
      "cell_type": "markdown",
      "metadata": {
        "id": "n8jahESfzNaP"
      },
      "source": [
        "### Part A: <b> [25pts] </b>\n",
        "\n",
        "Recall in a logistic regression model we would find the weights and bias such that \n",
        "$$P(y=1)=\\sigma(w_1 x_1 + w_2 x_2 + b)$$\n",
        "\n",
        "This means that when $w_1 x_1 + w_2 x_2 + b >0 $ we would predict y = 1. Moving b to the other side, we notice that only when $w_1 x_1 + w_2 x_2 < b $ do we predict y = 1. So the term b acts as a threshold past which the weighted sum of x's would cause the model to predict one class over the other.\n",
        "\n",
        "In this part you are asked to find (not through gradient descent but through your own understanding of the functions below) the weights and threshold that appropriately describe the function being modeled.\n",
        "\n",
        "Additional Resource/Hint: [Realization of Logic Gates Using MccullochPitts Neuron Model](https://ijettjournal.org/assets/year/2017/volume-45/number-2/IJETT-V45P212.pdf)"
      ]
    },
    {
      "cell_type": "markdown",
      "metadata": {
        "id": "W1rEOV_dzNaP"
      },
      "source": [
        "a) Implement the following logic gates <b> - [20pts] </b> <br> \n",
        "<ul>\n",
        "    <li>2 input AND gate</li>\n",
        "    <li>2 input OR gate</li>\n",
        "    <li>2 input NOR gate</li>\n",
        "    <li>1 input NOT gate</li>\n",
        "    <li>2 input NAND gate</li>\n",
        "</ul>\n",
        "\n",
        "by finding the correct weights and threshold.\n",
        "\n",
        "Additional Resource:[Boolean Algebra Truth Tables for Logic Gate Functions](https://www.electronics-tutorials.ws/boolean/bool_7.html#:~:text=The%20table%20used%20to%20represent,of%20these%20input(s).)"
      ]
    },
    {
      "cell_type": "code",
      "execution_count": null,
      "metadata": {
        "id": "O9tW2y6xzNaP"
      },
      "outputs": [],
      "source": [
        "\"\"\"\n",
        "params\n",
        "--------------\n",
        "a = input 1\n",
        "b = input 2\n",
        "\n",
        "other definations\n",
        "--------------\n",
        "w1 = weight associated with input 1\n",
        "w2 = weight associated with input 2\n",
        "\n",
        "returns\n",
        "--------------\n",
        "Y = output of the gate\n",
        "\"\"\"\n",
        "def and_gate(a,b):\n",
        "    w1 = 1  #TODO set weight w1\n",
        "    w2 = 1  #TODO set weight w2\n",
        "    g = w1*a + w2*b\n",
        "    threshold = 1 #TODO: set threshold\n",
        "    if g > threshold :\n",
        "        return 1\n",
        "    else:\n",
        "        return 0\n",
        "\n",
        "def or_gate(a,b):\n",
        "    w1 = 1  #TODO set weight w1\n",
        "    w2 = 1  #TODO set weight w2\n",
        "    g = w1*a + w2*b\n",
        "    threshold = 0.5 #TODO: set threshold\n",
        "    if g > threshold :\n",
        "        return 1\n",
        "    else:\n",
        "        return 0\n",
        "        \n",
        "def not_gate(a):\n",
        "    w1 = -1  #TODO set weight w1\n",
        "    g = w1*a\n",
        "    threshold = -0.5 #TODO: set threshold\n",
        "    if g > threshold :\n",
        "        return 1\n",
        "    else:\n",
        "        return 0\n",
        "\n",
        "def nor_gate(a,b):\n",
        "    w1 = -1  #TODO set weight w1\n",
        "    w2 = -1  #TODO set weight w2\n",
        "    g = w1*a + w2*b\n",
        "    threshold = -1 #TODO: set threshold\n",
        "    if g > threshold :\n",
        "        return 1\n",
        "    else:\n",
        "        return 0\n",
        "        \n",
        "def nand_gate(a,b):\n",
        "    w1 = -1  #TODO set weight w1\n",
        "    w2 = -1  #TODO set weight w2\n",
        "    g = w1*a + w2*b\n",
        "    threshold = -2 #TODO: set threshold\n",
        "    if g > threshold :\n",
        "        return 1\n",
        "    else:\n",
        "        return 0 "
      ]
    },
    {
      "cell_type": "code",
      "execution_count": null,
      "metadata": {
        "colab": {
          "base_uri": "https://localhost:8080/"
        },
        "id": "nmT6CejczNaP",
        "outputId": "3b0c06e4-7683-4bf8-f9d5-db6a2c0446f2"
      },
      "outputs": [
        {
          "name": "stdout",
          "output_type": "stream",
          "text": [
            "\n",
            "\n",
            "Enter your choice 1.AND 2.OR 3.NOT 4.NOR 5.NAND 6.exit\n",
            "5\n",
            "Enter 1st value: 0\n",
            "Enter 2nd value: 1\n",
            "Y = 1\n",
            "\n",
            "\n",
            "Enter your choice 1.AND 2.OR 3.NOT 4.NOR 5.NAND 6.exit\n",
            "5\n",
            "Enter 1st value: 1\n",
            "Enter 2nd value: 1\n",
            "Y = 0\n",
            "\n",
            "\n",
            "Enter your choice 1.AND 2.OR 3.NOT 4.NOR 5.NAND 6.exit\n",
            "6\n"
          ]
        }
      ],
      "source": [
        "# run this cell to check your fucntions\n",
        "# the output provided it just a sample output. you can check for any values of a and b\n",
        "\n",
        "def gates(c, a, b=None):\n",
        "    if c == 1:\n",
        "        return and_gate(a, b)\n",
        "    elif c == 2:\n",
        "        return or_gate(a, b)    \n",
        "    elif c == 3:\n",
        "        return not_gate(a)    \n",
        "    elif c == 4:\n",
        "        return nor_gate(a, b)  \n",
        "    elif c == 5:\n",
        "        return nand_gate(a, b)\n",
        "    else:\n",
        "        return \"Please check your choice\"\n",
        "        \n",
        "def inputv(c):\n",
        "    a = int(input((\"Enter 1st value: \")))\n",
        "    if (a>1 or a<0):\n",
        "        print(\"Please check input\")\n",
        "    else:    \n",
        "        if c!=3:\n",
        "            b = int(input((\"Enter 2st value: \")))\n",
        "            if (b>1 or b<0):\n",
        "                print(\"Please check input\") \n",
        "            return(a,b)    \n",
        "    return(a)\n",
        "\n",
        "\n",
        "while True:\n",
        "    c = int(input(\"\\n\\nEnter your choice 1.AND 2.OR 3.NOT 4.NOR 5.NAND 6.exit\\n\"))\n",
        "    if c == 6:\n",
        "        break\n",
        "    elif c not in range(1, 7):\n",
        "        print(\"Please enter a valid choice\")\n",
        "        continue\n",
        "    else:\n",
        "        if c != 3:\n",
        "            a = int(input(\"Enter 1st value: \"))\n",
        "            b = int(input(\"Enter 2nd value: \"))\n",
        "            if a not in [0, 1] or b not in [0, 1]:\n",
        "                print(\"Please check input\")\n",
        "                continue\n",
        "        else:\n",
        "            a = int(input(\"Enter value: \"))\n",
        "            if a not in [0, 1]:\n",
        "                print(\"Please check input\")\n",
        "                continue\n",
        "        y = gates(c, a, b)\n",
        "        print(\"Y =\", y)"
      ]
    },
    {
      "cell_type": "markdown",
      "metadata": {
        "id": "U0vjNJaNzNaQ"
      },
      "source": [
        "b) implement a XOR gate <b> - [5pts] </b>\n",
        "\n",
        "Hint: XOR can be implemented as a combination of OR, NAND and AND gates. You can reuse your functions from above"
      ]
    },
    {
      "cell_type": "code",
      "execution_count": null,
      "metadata": {
        "id": "-Nd5I56xzNaQ"
      },
      "outputs": [],
      "source": [
        "def xor_gate(a,b):\n",
        "    nand = nand_gate(a,b)\n",
        "    org = or_gate(a,b)\n",
        "    andg = and_gate(nand,org)\n",
        "    return andg"
      ]
    },
    {
      "cell_type": "markdown",
      "metadata": {
        "id": "QOf_n74VzNaQ"
      },
      "source": [
        "### Part B: Perceptron Learning Rule [25pts]"
      ]
    },
    {
      "cell_type": "markdown",
      "metadata": {
        "id": "GsaMORIGzNaQ"
      },
      "source": [
        "a) Inspired by the previous homework's implementation of logistic regression, implement a 2 input OR gate using perceptron learning rule <b>- [20pts] </b>\n",
        "\n",
        "Recall: A perceptron is a no-hidden-layer neural network (like logistic regression) with a single output that is the activation of a weighted sum (plus a bias) of the inputs.\n",
        "\n",
        "Your implementation should:\n",
        "- use a bias\n",
        "- have a configurable input size (the output size will always be 1)\n",
        "- have a configurable learning rate\n",
        "- have a configurable number of epochs\n",
        "- have a configurable batch size\n",
        "- support at least two types of activation functions\n",
        "- support at least two types of losses / cost functions"
      ]
    },
    {
      "cell_type": "code",
      "execution_count": 15,
      "metadata": {
        "colab": {
          "base_uri": "https://localhost:8080/"
        },
        "id": "PVvVbAtUzNaQ",
        "outputId": "734cab2c-06da-4c8b-8cd5-aca69ce8fd7e"
      },
      "outputs": [
        {
          "output_type": "stream",
          "name": "stdout",
          "text": [
            "[0. 1. 1. 1.]\n"
          ]
        }
      ],
      "source": [
        "import numpy as np\n",
        "import matplotlib.pyplot as plt\n",
        "\n",
        "class Perceptron:\n",
        "    \"\"\"\n",
        "    Implement a perceptron network\n",
        "    \"\"\"\n",
        "    def __init__(self, input_size, learning_rate=0.1, epochs=100, batch_size=1, activation='step', loss='mse'):\n",
        "        self.input_size = input_size\n",
        "        self.learning_rate = learning_rate\n",
        "        self.epochs = epochs\n",
        "        self.batch_size = batch_size\n",
        "        self.activation = activation\n",
        "        self.loss = loss\n",
        "        self.weights = np.random.rand(self.input_size+1)\n",
        "\n",
        "    def get_activation(self):\n",
        "        activation_func=\"\"\n",
        "        if self.activation == 'step':\n",
        "            activation_func = lambda x: np.where(x > 0, 1, 0) \n",
        "        elif self.activation == 'sigmoid':\n",
        "            activation_func = lambda x: 1 / (1 + np.exp(-x))\n",
        "        else:\n",
        "            raise ValueError(\"Invalid activation function\")\n",
        "        return activation_func\n",
        "    \n",
        "    def get_loss(self):\n",
        "        loss_func=\"\"\n",
        "        if self.loss == 'mse':\n",
        "            loss_func = lambda y_true, y_pred: np.mean((y_true - y_pred)**2)\n",
        "        elif self.loss == 'mae':\n",
        "            loss_func = lambda y_true, y_pred: np.mean(np.abs(y_true - y_pred))\n",
        "        else:\n",
        "            raise ValueError(\"Invalid loss function\")\n",
        "        return loss_func\n",
        "\n",
        "    def fit(self, X, y):\n",
        "        X = np.hstack([np.ones((X.shape[0],1)), X])\n",
        "        activation_func = self.get_activation()\n",
        "        loss_func = self.get_loss()\n",
        "\n",
        "        loss_values = []\n",
        "        for epoch in range(self.epochs):\n",
        "            for i in range(0, X.shape[0], self.batch_size):\n",
        "                X_batch = X[i:i+self.batch_size]\n",
        "                y_batch = y[i:i+self.batch_size]\n",
        "                y_pred = activation_func(np.dot(X_batch, self.weights))\n",
        "                loss = loss_func(y_batch, y_pred)\n",
        "                loss_values.append(loss)\n",
        "                grad = np.dot(X_batch.T, (y_pred - y_batch) * y_pred * (1 - y_pred))\n",
        "                self.weights -= self.learning_rate * grad\n",
        "\n",
        "    def predict(self, X):\n",
        "        X = np.hstack([np.ones((X.shape[0],1)), X])\n",
        "        activation_func = self.get_activation()\n",
        "        return np.round(activation_func(np.dot(X, self.weights)))\n",
        "\n",
        "X = np.array([\n",
        "    [0,0],\n",
        "    [0,1],\n",
        "    [1,0],\n",
        "    [1,1]\n",
        "])\n",
        "y = np.array([0,1,1,1])\n",
        "\n",
        "perceptron_or = Perceptron(input_size=2, learning_rate=0.1, epochs=100, batch_size=1, activation='sigmoid', loss='mse')\n",
        "perceptron_or.fit(X, y)\n",
        "\n",
        "print(perceptron_or.predict(X))\n"
      ]
    },
    {
      "cell_type": "markdown",
      "metadata": {
        "id": "izgwC0kazNaQ"
      },
      "source": [
        "b) How were the weights and biases you discovered in part B different from the ones you defined in part A for the OR gate? [5pts]"
      ]
    },
    {
      "cell_type": "markdown",
      "metadata": {
        "id": "8ivfR_Y4zNaQ"
      },
      "source": []
    },
    {
      "cell_type": "markdown",
      "metadata": {
        "id": "RhkA0_XwzNaQ"
      },
      "source": [
        "## Exercise 3 [20pts]\n",
        "\n",
        "This exercise will focus on Neural Networks.\n",
        "\n"
      ]
    },
    {
      "cell_type": "code",
      "execution_count": null,
      "metadata": {
        "id": "kUaIaodFzNaQ"
      },
      "outputs": [],
      "source": [
        "from torch.utils.data import Dataset\n",
        "from torchvision import datasets\n",
        "from torchvision.transforms import ToTensor\n",
        "import matplotlib.pyplot as plt\n",
        "import torch \n",
        "import torch.nn as nn \n",
        "import torch.nn.functional as F\n",
        "import torchvision \n",
        "import torchvision.transforms as transforms \n",
        "from torch.optim import SGD, Adam\n",
        "from tqdm import tqdm "
      ]
    },
    {
      "cell_type": "markdown",
      "metadata": {
        "id": "MrRAbp_2zNaQ"
      },
      "source": [
        "a) Modify the number of layers to include atleast 2 hidden layers with appropriate number of neurons that use the sigmoid function in the forward pass. Also change the epochs, criterion, batch_size. [5pts]"
      ]
    },
    {
      "cell_type": "markdown",
      "source": [
        "Model which gave close to 77% testing accuracy"
      ],
      "metadata": {
        "id": "dB-O2N8SlZ3p"
      }
    },
    {
      "cell_type": "code",
      "execution_count": null,
      "metadata": {
        "id": "o1ZTJ9wY4koJ"
      },
      "outputs": [],
      "source": [
        "class NeuralNetwork(nn.Module):\n",
        "    def __init__(self, input_size):\n",
        "        super(NeuralNetwork, self).__init__()\n",
        "        self.layer1 = nn.Linear(input_size, 784)\n",
        "        self.layer2 = nn.Linear(784, 400)\n",
        "        self.layer3 = nn.Linear(400, 10)\n",
        "        self.dropout = nn.Dropout(0.2)\n",
        "\n",
        "    def forward(self, input):\n",
        "        x = F.relu(self.layer1(input.view(-1, 28*28)))\n",
        "        x = F.sigmoid(self.layer2(x))\n",
        "        x = self.dropout(x)\n",
        "        outputs = self.layer3(x)\n",
        "        return F.softmax(outputs)\n",
        "\n",
        "epochs = 10\n",
        "device = torch.device(\"cuda\" if torch.cuda.is_available() else \"cpu\")\n",
        "criterion = nn.CrossEntropyLoss()\n",
        "batch_size = 128\n"
      ]
    },
    {
      "cell_type": "markdown",
      "source": [
        "Model which improved testing performance on testing to ~89%"
      ],
      "metadata": {
        "id": "HUjgav_llfKD"
      }
    },
    {
      "cell_type": "code",
      "execution_count": null,
      "metadata": {
        "id": "lt72joJQzNaR"
      },
      "outputs": [],
      "source": [
        "class NeuralNetwork(nn.Module):\n",
        "  def __init__(self, input_size):\n",
        "    super(NeuralNetwork, self).__init__()\n",
        "\n",
        "    self.layer1 = nn.Linear(input_size, 800)\n",
        "    self.layer2 = nn.Linear(800, 400)\n",
        "    self.layer3 = nn.Linear(400, 10)\n",
        "    self.dropout = nn.Dropout(0.2)\n",
        "\n",
        "  def forward(self, input):\n",
        "    x = F.relu(self.layer1(input))\n",
        "    x = F.sigmoid(self.layer2(x))\n",
        "    x = self.dropout(x)\n",
        "    outputs = self.layer3(x)\n",
        "    return F.softmax(outputs)\n",
        "\n",
        "epochs = 20\n",
        "device = torch.device(\"cuda\" if torch.cuda.is_available() else \"cpu\")\n",
        "criterion = nn.MSELoss()\n",
        "batch_size = 500\n"
      ]
    },
    {
      "cell_type": "markdown",
      "metadata": {
        "id": "aSo8TBc8zNaR"
      },
      "source": [
        "Run the following cell everytime you update the above code"
      ]
    },
    {
      "cell_type": "code",
      "execution_count": null,
      "metadata": {
        "id": "u0SpYxQDzNaR"
      },
      "outputs": [],
      "source": [
        "net = NeuralNetwork(784).to(device)\n",
        "optimizer = Adam(net.parameters(), lr = 1e-2)\n",
        "\n",
        "total_loss = 0\n",
        "\n",
        "\n",
        "#######################################\n",
        "### Downloading the data\n",
        "\n",
        "\n",
        "training_data = datasets.FashionMNIST(\n",
        "    root=\"data\",\n",
        "    train=True,\n",
        "    download=True,\n",
        "    transform=ToTensor()\n",
        ")\n",
        "\n",
        "test_data = datasets.FashionMNIST(\n",
        "    root=\"data\",\n",
        "    train=False,\n",
        "    download=True,\n",
        "    transform=ToTensor()\n",
        ")\n",
        "\n",
        "train_dataloader = torch.utils.data.DataLoader(training_data, batch_size = batch_size, shuffle = True, num_workers=2)\n",
        "train_dataloader2 = torch.utils.data.DataLoader(training_data, batch_size = batch_size, shuffle = True, num_workers=2)\n",
        "\n",
        "test_dataloader = torch.utils.data.DataLoader(test_data, batch_size = batch_size, shuffle = True, num_workers=2)\n",
        "test_dataloader2 = torch.utils.data.DataLoader(test_data, batch_size = batch_size, shuffle = True, num_workers=2)"
      ]
    },
    {
      "cell_type": "markdown",
      "metadata": {
        "id": "DFZ0FRNFzNaR"
      },
      "source": [
        "b) You may change the architecture to increase the accuracy of this model. The goal is to attain the highest possible accuracy. You do not get marks for accuracies less than 83%. You may modify the values in part a [10pts]"
      ]
    },
    {
      "cell_type": "code",
      "execution_count": null,
      "metadata": {
        "colab": {
          "base_uri": "https://localhost:8080/"
        },
        "id": "wnQ7DaDKzNaR",
        "outputId": "84f545ce-ad27-4b9f-ca90-789797b985ff"
      },
      "outputs": [
        {
          "name": "stderr",
          "output_type": "stream",
          "text": [
            "\r  0%|          | 0/20 [00:00<?, ?it/s]<ipython-input-88-01cab3ebd345>:15: UserWarning: Implicit dimension choice for softmax has been deprecated. Change the call to include dim=X as an argument.\n",
            "  return F.softmax(outputs)\n",
            "  5%|▌         | 1/20 [00:34<10:50, 34.24s/it]"
          ]
        },
        {
          "name": "stdout",
          "output_type": "stream",
          "text": [
            "epoch =  0  loss =  8.6854855902493   training accuracy =  0.5314833333333333 test accuracy =  0.5242\n"
          ]
        },
        {
          "name": "stderr",
          "output_type": "stream",
          "text": [
            "\r 10%|█         | 2/20 [01:01<09:03, 30.17s/it]"
          ]
        },
        {
          "name": "stdout",
          "output_type": "stream",
          "text": [
            "epoch =  1  loss =  7.1971323899924755   training accuracy =  0.54005 test accuracy =  0.5311\n"
          ]
        },
        {
          "name": "stderr",
          "output_type": "stream",
          "text": [
            "\r 15%|█▌        | 3/20 [01:29<08:13, 29.05s/it]"
          ]
        },
        {
          "name": "stdout",
          "output_type": "stream",
          "text": [
            "epoch =  2  loss =  7.045324757695198   training accuracy =  0.5349666666666667 test accuracy =  0.5261\n"
          ]
        },
        {
          "name": "stderr",
          "output_type": "stream",
          "text": [
            "\r 20%|██        | 4/20 [01:56<07:33, 28.33s/it]"
          ]
        },
        {
          "name": "stdout",
          "output_type": "stream",
          "text": [
            "epoch =  3  loss =  6.417871594429016   training accuracy =  0.6677 test accuracy =  0.6547\n"
          ]
        },
        {
          "name": "stderr",
          "output_type": "stream",
          "text": [
            "\r 25%|██▌       | 5/20 [02:24<07:03, 28.23s/it]"
          ]
        },
        {
          "name": "stdout",
          "output_type": "stream",
          "text": [
            "epoch =  4  loss =  3.7952955327928066   training accuracy =  0.7844 test accuracy =  0.7648\n"
          ]
        },
        {
          "name": "stderr",
          "output_type": "stream",
          "text": [
            "\r 30%|███       | 6/20 [02:54<06:42, 28.77s/it]"
          ]
        },
        {
          "name": "stdout",
          "output_type": "stream",
          "text": [
            "epoch =  5  loss =  3.3493464402854443   training accuracy =  0.7909 test accuracy =  0.7713\n"
          ]
        },
        {
          "name": "stderr",
          "output_type": "stream",
          "text": [
            "\r 35%|███▌      | 7/20 [03:23<06:16, 28.98s/it]"
          ]
        },
        {
          "name": "stdout",
          "output_type": "stream",
          "text": [
            "epoch =  6  loss =  3.257948087528348   training accuracy =  0.7970666666666667 test accuracy =  0.7766\n"
          ]
        },
        {
          "name": "stderr",
          "output_type": "stream",
          "text": [
            "\r 40%|████      | 8/20 [03:53<05:50, 29.18s/it]"
          ]
        },
        {
          "name": "stdout",
          "output_type": "stream",
          "text": [
            "epoch =  7  loss =  3.0635340977460146   training accuracy =  0.89645 test accuracy =  0.8718\n"
          ]
        },
        {
          "name": "stderr",
          "output_type": "stream",
          "text": [
            "\r 45%|████▌     | 9/20 [04:25<05:29, 29.96s/it]"
          ]
        },
        {
          "name": "stdout",
          "output_type": "stream",
          "text": [
            "epoch =  8  loss =  1.9454934252426028   training accuracy =  0.8980666666666667 test accuracy =  0.8729\n"
          ]
        },
        {
          "name": "stderr",
          "output_type": "stream",
          "text": [
            "\r 50%|█████     | 10/20 [04:57<05:06, 30.61s/it]"
          ]
        },
        {
          "name": "stdout",
          "output_type": "stream",
          "text": [
            "epoch =  9  loss =  1.834816343151033   training accuracy =  0.8958166666666667 test accuracy =  0.8723\n"
          ]
        },
        {
          "name": "stderr",
          "output_type": "stream",
          "text": [
            "\r 55%|█████▌    | 11/20 [05:28<04:38, 30.89s/it]"
          ]
        },
        {
          "name": "stdout",
          "output_type": "stream",
          "text": [
            "epoch =  10  loss =  1.7833055071532726   training accuracy =  0.9088333333333334 test accuracy =  0.8802\n"
          ]
        },
        {
          "name": "stderr",
          "output_type": "stream",
          "text": [
            "\r 60%|██████    | 12/20 [06:02<04:14, 31.87s/it]"
          ]
        },
        {
          "name": "stdout",
          "output_type": "stream",
          "text": [
            "epoch =  11  loss =  1.7597284438088536   training accuracy =  0.8935166666666666 test accuracy =  0.8662\n"
          ]
        },
        {
          "name": "stderr",
          "output_type": "stream",
          "text": [
            "\r 65%|██████▌   | 13/20 [06:36<03:46, 32.29s/it]"
          ]
        },
        {
          "name": "stdout",
          "output_type": "stream",
          "text": [
            "epoch =  12  loss =  1.7457022368907928   training accuracy =  0.9004666666666666 test accuracy =  0.8736\n"
          ]
        },
        {
          "name": "stderr",
          "output_type": "stream",
          "text": [
            "\r 70%|███████   | 14/20 [07:09<03:16, 32.74s/it]"
          ]
        },
        {
          "name": "stdout",
          "output_type": "stream",
          "text": [
            "epoch =  13  loss =  1.6854582568630576   training accuracy =  0.8963333333333333 test accuracy =  0.8645\n"
          ]
        },
        {
          "name": "stderr",
          "output_type": "stream",
          "text": [
            "\r 75%|███████▌  | 15/20 [07:45<02:48, 33.66s/it]"
          ]
        },
        {
          "name": "stdout",
          "output_type": "stream",
          "text": [
            "epoch =  14  loss =  1.626717634499073   training accuracy =  0.8998166666666667 test accuracy =  0.8682\n"
          ]
        },
        {
          "name": "stderr",
          "output_type": "stream",
          "text": [
            "\r 80%|████████  | 16/20 [08:20<02:15, 33.96s/it]"
          ]
        },
        {
          "name": "stdout",
          "output_type": "stream",
          "text": [
            "epoch =  15  loss =  1.6478663124144077   training accuracy =  0.9106333333333333 test accuracy =  0.8811\n"
          ]
        },
        {
          "name": "stderr",
          "output_type": "stream",
          "text": [
            "\r 85%|████████▌ | 17/20 [08:56<01:44, 34.73s/it]"
          ]
        },
        {
          "name": "stdout",
          "output_type": "stream",
          "text": [
            "epoch =  16  loss =  1.6200494412332773   training accuracy =  0.9149 test accuracy =  0.8841\n"
          ]
        },
        {
          "name": "stderr",
          "output_type": "stream",
          "text": [
            "\r 90%|█████████ | 18/20 [09:34<01:11, 35.57s/it]"
          ]
        },
        {
          "name": "stdout",
          "output_type": "stream",
          "text": [
            "epoch =  17  loss =  1.570212583988905   training accuracy =  0.9166666666666666 test accuracy =  0.8813\n"
          ]
        },
        {
          "name": "stderr",
          "output_type": "stream",
          "text": [
            "\r 95%|█████████▌| 19/20 [10:12<00:36, 36.39s/it]"
          ]
        },
        {
          "name": "stdout",
          "output_type": "stream",
          "text": [
            "epoch =  18  loss =  1.576647930778563   training accuracy =  0.9165666666666666 test accuracy =  0.8822\n"
          ]
        },
        {
          "name": "stderr",
          "output_type": "stream",
          "text": [
            "100%|██████████| 20/20 [10:50<00:00, 32.53s/it]"
          ]
        },
        {
          "name": "stdout",
          "output_type": "stream",
          "text": [
            "epoch =  19  loss =  1.5130695784464478   training accuracy =  0.9212333333333333 test accuracy =  0.8872\n"
          ]
        },
        {
          "name": "stderr",
          "output_type": "stream",
          "text": [
            "\n"
          ]
        }
      ],
      "source": [
        "for epoch in tqdm(range(epochs)): \n",
        "  epoch_loss = 0\n",
        "  for i, data in enumerate(train_dataloader): \n",
        "    inputs, labels = data \n",
        "\n",
        "    optimizer.zero_grad() \n",
        "    outputs = net(inputs.view(batch_size,-1).to(device))\n",
        "\n",
        "    labels_ = F.one_hot(labels, num_classes= 10)\n",
        "\n",
        "    loss = criterion(outputs,labels_.to(device).float())\n",
        "    loss.backward()  # update network parameters\n",
        "\n",
        "    optimizer.step() # update the optimizer parameters \n",
        "\n",
        "    total_loss += loss.item() \n",
        "    epoch_loss += loss.item()\n",
        "  \n",
        "  with torch.no_grad():\n",
        "    net.eval()\n",
        "    correct = 0\n",
        "    total = 0\n",
        "    for i, data in enumerate(train_dataloader2):\n",
        "      input, labels = data\n",
        "      outputs = net(input.view(batch_size,-1).to(device))\n",
        "\n",
        "      total+= len(labels)\n",
        "\n",
        "      predictions = torch.argmax(outputs, dim = 1)\n",
        "      predictions = predictions.to(\"cpu\").numpy() \n",
        "      correct += sum(1*(labels.numpy()==predictions))\n",
        "  \n",
        "  with torch.no_grad():\n",
        "    net.eval()\n",
        "    correct_test = 0\n",
        "    total_test = 0\n",
        "    for i, data in enumerate(test_dataloader):\n",
        "      input, labels = data\n",
        "      outputs = net(input.view(batch_size,-1).to(device))\n",
        "\n",
        "      total_test+= len(labels)\n",
        "\n",
        "      predictions = torch.argmax(outputs, dim = 1)\n",
        "      predictions = predictions.to(\"cpu\").numpy() \n",
        "      correct_test += sum(1*(labels.numpy()==predictions))\n",
        "\n",
        "  print(\"epoch = \", epoch, \" loss = \", epoch_loss, \"  training accuracy = \", correct/total, \"test accuracy = \", correct_test/total_test)"
      ]
    },
    {
      "cell_type": "markdown",
      "metadata": {
        "id": "NBJhTEY5zNaR"
      },
      "source": [
        "d) Explain in ~150 words your choice of architecture and parameters, and your general process. [5pts]"
      ]
    },
    {
      "cell_type": "markdown",
      "metadata": {
        "id": "yYUifdpqzNaR"
      },
      "source": [
        "Firstly, I tried a neural network with 10 epochs, CrossEntropy Loss and 128 (default given) batch size which gave me close to 77% testing accuracy. I changed the parameters for the model with 20 epochs, MSE loss and 500 batch size, which improved the testing accuracy to ~89%."
      ]
    }
  ],
  "metadata": {
    "colab": {
      "provenance": []
    },
    "kernelspec": {
      "display_name": "Python 3 (ipykernel)",
      "language": "python",
      "name": "python3"
    },
    "language_info": {
      "codemirror_mode": {
        "name": "ipython",
        "version": 3
      },
      "file_extension": ".py",
      "mimetype": "text/x-python",
      "name": "python",
      "nbconvert_exporter": "python",
      "pygments_lexer": "ipython3",
      "version": "3.9.12"
    }
  },
  "nbformat": 4,
  "nbformat_minor": 0
}